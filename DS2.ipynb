{
 "cells": [
  {
   "cell_type": "code",
   "execution_count": null,
   "id": "2b2396ae-c6bf-44cb-91f3-01246acc3cad",
   "metadata": {},
   "outputs": [],
   "source": [
    "import pandas as pd \n",
    "import matplotlib.pyplot as plt \n",
    "mtcars = pd.read_csv('mtcars.csv')  \n",
    "plt.hist(mtcars['mpg'], bins=10, color='skyblue', edgecolor='black') \n",
    "plt.xlabel('Miles per gallon (mpg)') \n",
    "plt.ylabel('Frequency') \n",
    "plt.title('Histogram of Miles per gallon (mpg)') \n",
    "plt.show()\n",
    "\n",
    "\n",
    "\n",
    "\n",
    "import pandas as pd \n",
    "import numpy as np \n",
    "df = pd.read_csv('BL-Flickr-Images-Book.csv') \n",
    "print(\"Original DataFrame:\") \n",
    "print(df.head()) \n",
    "irrelevant_columns = ['Edition Statement', 'Corporate Author', 'Corporate Contributors', 'Former owner', 'Engraver', 'Contributors', 'Issuance type', 'Shelfmarks'] \n",
    "df.drop(columns=irrelevant_columns, inplace=True)\n",
    "df.set_index('Identifier', inplace=True) \n",
    "df['Date of Publication'] = df['Date of Publication'].str.extract(r'^(\\d{4})', expand=False) \n",
    "df['Place of Publication'] = np.where(df['Place of Publication'].str.contains('London'), 'London', df['Place of Publication'].str.replace('-', ' ')) \n",
    "print(\"\\nCleaned DataFrame:\") \n",
    "print(df.head())"
   ]
  }
 ],
 "metadata": {
  "kernelspec": {
   "display_name": "anaconda-panel-2023.05-py310",
   "language": "python",
   "name": "conda-env-anaconda-panel-2023.05-py310-py"
  },
  "language_info": {
   "codemirror_mode": {
    "name": "ipython",
    "version": 3
   },
   "file_extension": ".py",
   "mimetype": "text/x-python",
   "name": "python",
   "nbconvert_exporter": "python",
   "pygments_lexer": "ipython3",
   "version": "3.11.5"
  }
 },
 "nbformat": 4,
 "nbformat_minor": 5
}
