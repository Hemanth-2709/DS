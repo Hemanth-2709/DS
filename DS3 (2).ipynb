{
 "cells": [
  {
   "cell_type": "code",
   "execution_count": 1,
   "id": "5e84165e-ea29-4107-91ee-6662242112ab",
   "metadata": {},
   "outputs": [
    {
     "name": "stdout",
     "output_type": "stream",
     "text": [
      "Classification accuracy 1.0\n"
     ]
    }
   ],
   "source": [
    "from sklearn.datasets import load_iris \n",
    "from sklearn.model_selection import train_test_split \n",
    "from sklearn.linear_model import LogisticRegression \n",
    "from sklearn.preprocessing import StandardScaler \n",
    "from sklearn.pipeline import make_pipeline \n",
    "iris = load_iris() \n",
    "X = iris.data \n",
    "y = iris.target \n",
    "X_train, X_test, y_train, y_test = train_test_split(X, y, test_size=0.2, random_state=42) \n",
    "pipeline = make_pipeline(StandardScaler(), LogisticRegression(C=1e4, max_iter=1000)) \n",
    "pipeline.fit(X_train, y_train) \n",
    "accuracy = pipeline.score(X_test, y_test)\n",
    "print(\"Classification accuracy\",accuracy)\n",
    "\n",
    "\n",
    "\n",
    "\n",
    "\n"
   ]
  },
  {
   "cell_type": "code",
   "execution_count": 2,
   "id": "93d99235-a0ab-49b0-9ec3-cb646d883757",
   "metadata": {},
   "outputs": [
    {
     "name": "stdout",
     "output_type": "stream",
     "text": [
      "For hyperparameters: {'kernel': 'rbf', 'gamma': 0.5, 'C': 0.01}, Accuracy: 0.3, Total Support Vectors:120\n",
      "\n",
      "Best accuracy: 0.3\n",
      "Total support vectors on test data: 120\n",
      "For hyperparameters: {'kernel': 'rbf', 'gamma': 0.5, 'C': 1}, Accuracy: 1.0, Total Support Vectors:39\n",
      "\n",
      "Best accuracy: 1.0\n",
      "Total support vectors on test data: 39\n",
      "For hyperparameters: {'kernel': 'rbf', 'gamma': 0.5, 'C': 10}, Accuracy: 1.0, Total Support Vectors:31\n",
      "\n",
      "Best accuracy: 1.0\n",
      "Total support vectors on test data: 39\n"
     ]
    }
   ],
   "source": [
    "from sklearn.datasets import load_iris \n",
    "from sklearn.model_selection import train_test_split \n",
    "from sklearn.svm import SVC \n",
    "iris = load_iris() \n",
    "X = iris.data \n",
    "y = iris.target\n",
    "X_train, X_test, y_train, y_test = train_test_split(X, y, test_size=0.2, random_state=42) \n",
    "hyperparameters = [ \n",
    "{'kernel': 'rbf', 'gamma': 0.5, 'C': 0.01}, \n",
    "{'kernel': 'rbf', 'gamma': 0.5, 'C': 1}, \n",
    "{'kernel': 'rbf', 'gamma': 0.5, 'C': 10} \n",
    "] \n",
    "best_accuracy = 0 \n",
    "best_model = None \n",
    "best_support_vectors = None \n",
    "\n",
    "for params in hyperparameters: \n",
    "    model = SVC(kernel=params['kernel'],gamma=params['gamma'],C=params['C'],decision_function_shape='ovr') \n",
    "    model.fit(X_train, y_train) \n",
    "    accuracy = model.score(X_test, y_test) \n",
    "    support_vectors = model.n_support_.sum() \n",
    "    print(f\"For hyperparameters: {params}, Accuracy: {accuracy}, Total Support Vectors:{support_vectors}\") \n",
    "    if accuracy > best_accuracy: \n",
    "        best_accuracy = accuracy \n",
    "        best_model = model \n",
    "        best_support_vectors = support_vectors \n",
    "    print(\"\\nBest accuracy:\", best_accuracy) \n",
    "    print(\"Total support vectors on test data:\", best_support_vectors)\n"
   ]
  },
  {
   "cell_type": "code",
   "execution_count": null,
   "id": "17803778-68c8-409b-8de0-7fb65e60457a",
   "metadata": {},
   "outputs": [],
   "source": []
  }
 ],
 "metadata": {
  "kernelspec": {
   "display_name": "anaconda-panel-2023.05-py310",
   "language": "python",
   "name": "conda-env-anaconda-panel-2023.05-py310-py"
  },
  "language_info": {
   "codemirror_mode": {
    "name": "ipython",
    "version": 3
   },
   "file_extension": ".py",
   "mimetype": "text/x-python",
   "name": "python",
   "nbconvert_exporter": "python",
   "pygments_lexer": "ipython3",
   "version": "3.11.5"
  }
 },
 "nbformat": 4,
 "nbformat_minor": 5
}
